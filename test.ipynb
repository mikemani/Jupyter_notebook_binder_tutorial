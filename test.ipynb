{
 "cells": [
  {
   "cell_type": "markdown",
   "metadata": {},
   "source": [
    "## title: \"Template4JupyterNotebook\"\n",
    "author: \"M. Maniscalco\"\n",
    "date: \"5/22/2019\"\n",
    "output: html_document\n",
    "\n",
    "\n",
    "check R version"
   ]
  },
  {
   "cell_type": "code",
   "execution_count": 21,
   "metadata": {},
   "outputs": [
    {
     "data": {
      "text/html": [
       "<dl>\n",
       "\t<dt>$platform</dt>\n",
       "\t\t<dd>'x86_64-apple-darwin15.6.0'</dd>\n",
       "\t<dt>$arch</dt>\n",
       "\t\t<dd>'x86_64'</dd>\n",
       "\t<dt>$os</dt>\n",
       "\t\t<dd>'darwin15.6.0'</dd>\n",
       "\t<dt>$system</dt>\n",
       "\t\t<dd>'x86_64, darwin15.6.0'</dd>\n",
       "\t<dt>$status</dt>\n",
       "\t\t<dd>''</dd>\n",
       "\t<dt>$major</dt>\n",
       "\t\t<dd>'3'</dd>\n",
       "\t<dt>$minor</dt>\n",
       "\t\t<dd>'6.0'</dd>\n",
       "\t<dt>$year</dt>\n",
       "\t\t<dd>'2019'</dd>\n",
       "\t<dt>$month</dt>\n",
       "\t\t<dd>'04'</dd>\n",
       "\t<dt>$day</dt>\n",
       "\t\t<dd>'26'</dd>\n",
       "\t<dt>$`svn rev`</dt>\n",
       "\t\t<dd>'76424'</dd>\n",
       "\t<dt>$language</dt>\n",
       "\t\t<dd>'R'</dd>\n",
       "\t<dt>$version.string</dt>\n",
       "\t\t<dd>'R version 3.6.0 (2019-04-26)'</dd>\n",
       "\t<dt>$nickname</dt>\n",
       "\t\t<dd>'Planting of a Tree'</dd>\n",
       "</dl>\n"
      ],
      "text/latex": [
       "\\begin{description}\n",
       "\\item[\\$platform] 'x86\\_64-apple-darwin15.6.0'\n",
       "\\item[\\$arch] 'x86\\_64'\n",
       "\\item[\\$os] 'darwin15.6.0'\n",
       "\\item[\\$system] 'x86\\_64, darwin15.6.0'\n",
       "\\item[\\$status] ''\n",
       "\\item[\\$major] '3'\n",
       "\\item[\\$minor] '6.0'\n",
       "\\item[\\$year] '2019'\n",
       "\\item[\\$month] '04'\n",
       "\\item[\\$day] '26'\n",
       "\\item[\\$`svn rev`] '76424'\n",
       "\\item[\\$language] 'R'\n",
       "\\item[\\$version.string] 'R version 3.6.0 (2019-04-26)'\n",
       "\\item[\\$nickname] 'Planting of a Tree'\n",
       "\\end{description}\n"
      ],
      "text/markdown": [
       "$platform\n",
       ":   'x86_64-apple-darwin15.6.0'\n",
       "$arch\n",
       ":   'x86_64'\n",
       "$os\n",
       ":   'darwin15.6.0'\n",
       "$system\n",
       ":   'x86_64, darwin15.6.0'\n",
       "$status\n",
       ":   ''\n",
       "$major\n",
       ":   '3'\n",
       "$minor\n",
       ":   '6.0'\n",
       "$year\n",
       ":   '2019'\n",
       "$month\n",
       ":   '04'\n",
       "$day\n",
       ":   '26'\n",
       "$`svn rev`\n",
       ":   '76424'\n",
       "$language\n",
       ":   'R'\n",
       "$version.string\n",
       ":   'R version 3.6.0 (2019-04-26)'\n",
       "$nickname\n",
       ":   'Planting of a Tree'\n",
       "\n",
       "\n"
      ],
      "text/plain": [
       "$platform\n",
       "[1] \"x86_64-apple-darwin15.6.0\"\n",
       "\n",
       "$arch\n",
       "[1] \"x86_64\"\n",
       "\n",
       "$os\n",
       "[1] \"darwin15.6.0\"\n",
       "\n",
       "$system\n",
       "[1] \"x86_64, darwin15.6.0\"\n",
       "\n",
       "$status\n",
       "[1] \"\"\n",
       "\n",
       "$major\n",
       "[1] \"3\"\n",
       "\n",
       "$minor\n",
       "[1] \"6.0\"\n",
       "\n",
       "$year\n",
       "[1] \"2019\"\n",
       "\n",
       "$month\n",
       "[1] \"04\"\n",
       "\n",
       "$day\n",
       "[1] \"26\"\n",
       "\n",
       "$`svn rev`\n",
       "[1] \"76424\"\n",
       "\n",
       "$language\n",
       "[1] \"R\"\n",
       "\n",
       "$version.string\n",
       "[1] \"R version 3.6.0 (2019-04-26)\"\n",
       "\n",
       "$nickname\n",
       "[1] \"Planting of a Tree\"\n"
      ]
     },
     "metadata": {},
     "output_type": "display_data"
    }
   ],
   "source": [
    "R.Version()"
   ]
  },
  {
   "cell_type": "markdown",
   "metadata": {},
   "source": [
    "Load the packages"
   ]
  },
  {
   "cell_type": "code",
   "execution_count": 43,
   "metadata": {},
   "outputs": [
    {
     "data": {
      "text/html": [
       "<dl class=dl-horizontal>\n",
       "\t<dt>kelly_green</dt>\n",
       "\t\t<dd>'#29BF12'</dd>\n",
       "\t<dt>rich_electric_blue</dt>\n",
       "\t\t<dd>'#00A5CF'</dd>\n",
       "\t<dt>maximum_red</dt>\n",
       "\t\t<dd>'#DE1A1A'</dd>\n",
       "\t<dt>majorelle_blue</dt>\n",
       "\t\t<dd>'#574AE2'</dd>\n",
       "\t<dt>fluorescent_orange</dt>\n",
       "\t\t<dd>'#FFBF00'</dd>\n",
       "</dl>\n"
      ],
      "text/latex": [
       "\\begin{description*}\n",
       "\\item[kelly\\textbackslash{}\\_green] '\\#29BF12'\n",
       "\\item[rich\\textbackslash{}\\_electric\\textbackslash{}\\_blue] '\\#00A5CF'\n",
       "\\item[maximum\\textbackslash{}\\_red] '\\#DE1A1A'\n",
       "\\item[majorelle\\textbackslash{}\\_blue] '\\#574AE2'\n",
       "\\item[fluorescent\\textbackslash{}\\_orange] '\\#FFBF00'\n",
       "\\end{description*}\n"
      ],
      "text/markdown": [
       "kelly_green\n",
       ":   '#29BF12'rich_electric_blue\n",
       ":   '#00A5CF'maximum_red\n",
       ":   '#DE1A1A'majorelle_blue\n",
       ":   '#574AE2'fluorescent_orange\n",
       ":   '#FFBF00'\n",
       "\n"
      ],
      "text/plain": [
       "       kelly_green rich_electric_blue        maximum_red     majorelle_blue \n",
       "         \"#29BF12\"          \"#00A5CF\"          \"#DE1A1A\"          \"#574AE2\" \n",
       "fluorescent_orange \n",
       "         \"#FFBF00\" "
      ]
     },
     "metadata": {},
     "output_type": "display_data"
    }
   ],
   "source": [
    "#install.packages(\"vegan\")\n",
    "library(reshape2)\n",
    "library(ggplot2)\n",
    "library(vegan)\n",
    "library(plyr)\n",
    "library(data.table)\n",
    "library(tidyverse)\n",
    "library(tibble)\n",
    "library(jcolors)\n",
    "jcolors('default')\n",
    "library(RColorBrewer)\n",
    "library(forcats)"
   ]
  },
  {
   "cell_type": "markdown",
   "metadata": {},
   "source": [
    "First, we will upload the mapping file with all the metadata associated with our samples."
   ]
  },
  {
   "cell_type": "code",
   "execution_count": 44,
   "metadata": {},
   "outputs": [
    {
     "data": {
      "text/html": [
       "<table>\n",
       "<caption>A data.frame: 6 × 19</caption>\n",
       "<thead>\n",
       "\t<tr><th scope=col>SampleID</th><th scope=col>NematodeOrder</th><th scope=col>NematodeFamily</th><th scope=col>NematodeGenus</th><th scope=col>NematodeID</th><th scope=col>NematodeID_combined</th><th scope=col>FeedingGroup</th><th scope=col>MorphVoucher</th><th scope=col>Year</th><th scope=col>OceanRegion</th><th scope=col>Habitat</th><th scope=col>Depth</th><th scope=col>Latitude</th><th scope=col>Longitude</th><th scope=col>SampleSite</th><th scope=col>DNA_Extraction</th><th scope=col>PickedBy</th><th scope=col>phinchID</th><th scope=col>Description</th></tr>\n",
       "\t<tr><th scope=col>&lt;fct&gt;</th><th scope=col>&lt;fct&gt;</th><th scope=col>&lt;fct&gt;</th><th scope=col>&lt;fct&gt;</th><th scope=col>&lt;fct&gt;</th><th scope=col>&lt;fct&gt;</th><th scope=col>&lt;fct&gt;</th><th scope=col>&lt;fct&gt;</th><th scope=col>&lt;int&gt;</th><th scope=col>&lt;fct&gt;</th><th scope=col>&lt;fct&gt;</th><th scope=col>&lt;int&gt;</th><th scope=col>&lt;dbl&gt;</th><th scope=col>&lt;dbl&gt;</th><th scope=col>&lt;fct&gt;</th><th scope=col>&lt;fct&gt;</th><th scope=col>&lt;fct&gt;</th><th scope=col>&lt;fct&gt;</th><th scope=col>&lt;fct&gt;</th></tr>\n",
       "</thead>\n",
       "<tbody>\n",
       "\t<tr><td>16Snem1  </td><td>unknown     </td><td>unknown        </td><td>unknown      </td><td>Nematoda      </td><td>Nematoda     </td><td>unknown</td><td>No </td><td>2007</td><td>GulfofMexico</td><td>Seep   </td><td>1425</td><td>27.11997</td><td> -91.16508</td><td>GC852.16 </td><td>water+WLB</td><td>Holly</td><td>16Snem1  </td><td>Seep.nema   </td></tr>\n",
       "\t<tr><td>16Snem11 </td><td>unknown     </td><td>unknown        </td><td>unknown      </td><td>Nematoda      </td><td>Nematoda     </td><td>unknown</td><td>No </td><td>2007</td><td>GulfofMexico</td><td>Seep   </td><td>2391</td><td>26.38718</td><td> -93.51293</td><td>AC601.130</td><td>water+WLB</td><td>Holly</td><td>16Snem11 </td><td>Seep.nema   </td></tr>\n",
       "\t<tr><td>16Snem100</td><td>Monhysterida</td><td>Xyalidae       </td><td>Daptonema    </td><td>Daptonema     </td><td>Daptonema    </td><td>1B     </td><td>No </td><td>2013</td><td>BeaufortSea </td><td>Arctic </td><td> 750</td><td>70.43350</td><td>-138.98340</td><td>Gry.06   </td><td>WLB      </td><td>Tiago</td><td>16Snem100</td><td>Arctic.nema </td></tr>\n",
       "\t<tr><td>16Snem101</td><td>Enoplida    </td><td>Oncholaimidae  </td><td>Oncholaimidae</td><td>Oncholaimidae </td><td>Oncholaimidae</td><td>2B     </td><td>No </td><td>2007</td><td>GulfofMexico</td><td>NotSeep</td><td>2222</td><td>27.64819</td><td> -88.37472</td><td>AT340.209</td><td>WLB      </td><td>Tiago</td><td>16Snem101</td><td>NotSeep.nema</td></tr>\n",
       "\t<tr><td>16Snem102</td><td>unknown     </td><td>unknown        </td><td>unknown      </td><td>Nematoda      </td><td>Nematoda     </td><td>unknown</td><td>No </td><td>2007</td><td>GulfofMexico</td><td>NotSeep</td><td>2222</td><td>27.64819</td><td> -88.37472</td><td>AT340.209</td><td>WLB      </td><td>Tiago</td><td>16Snem102</td><td>NotSeep.nema</td></tr>\n",
       "\t<tr><td>16Snem103</td><td>Chromadorida</td><td>Desmoscolecidae</td><td>Desmocolex   </td><td>Desmocolex_sp3</td><td>Desmocolex   </td><td>1A     </td><td>Yes</td><td>2007</td><td>GulfofMexico</td><td>NotSeep</td><td>2222</td><td>27.64819</td><td> -88.37472</td><td>AT340.209</td><td>WLB      </td><td>Tiago</td><td>16Snem103</td><td>NotSeep.nema</td></tr>\n",
       "</tbody>\n",
       "</table>\n"
      ],
      "text/latex": [
       "A data.frame: 6 × 19\n",
       "\\begin{tabular}{r|lllllllllllllllllll}\n",
       " SampleID & NematodeOrder & NematodeFamily & NematodeGenus & NematodeID & NematodeID\\_combined & FeedingGroup & MorphVoucher & Year & OceanRegion & Habitat & Depth & Latitude & Longitude & SampleSite & DNA\\_Extraction & PickedBy & phinchID & Description\\\\\n",
       " <fct> & <fct> & <fct> & <fct> & <fct> & <fct> & <fct> & <fct> & <int> & <fct> & <fct> & <int> & <dbl> & <dbl> & <fct> & <fct> & <fct> & <fct> & <fct>\\\\\n",
       "\\hline\n",
       "\t 16Snem1   & unknown      & unknown         & unknown       & Nematoda       & Nematoda      & unknown & No  & 2007 & GulfofMexico & Seep    & 1425 & 27.11997 &  -91.16508 & GC852.16  & water+WLB & Holly & 16Snem1   & Seep.nema   \\\\\n",
       "\t 16Snem11  & unknown      & unknown         & unknown       & Nematoda       & Nematoda      & unknown & No  & 2007 & GulfofMexico & Seep    & 2391 & 26.38718 &  -93.51293 & AC601.130 & water+WLB & Holly & 16Snem11  & Seep.nema   \\\\\n",
       "\t 16Snem100 & Monhysterida & Xyalidae        & Daptonema     & Daptonema      & Daptonema     & 1B      & No  & 2013 & BeaufortSea  & Arctic  &  750 & 70.43350 & -138.98340 & Gry.06    & WLB       & Tiago & 16Snem100 & Arctic.nema \\\\\n",
       "\t 16Snem101 & Enoplida     & Oncholaimidae   & Oncholaimidae & Oncholaimidae  & Oncholaimidae & 2B      & No  & 2007 & GulfofMexico & NotSeep & 2222 & 27.64819 &  -88.37472 & AT340.209 & WLB       & Tiago & 16Snem101 & NotSeep.nema\\\\\n",
       "\t 16Snem102 & unknown      & unknown         & unknown       & Nematoda       & Nematoda      & unknown & No  & 2007 & GulfofMexico & NotSeep & 2222 & 27.64819 &  -88.37472 & AT340.209 & WLB       & Tiago & 16Snem102 & NotSeep.nema\\\\\n",
       "\t 16Snem103 & Chromadorida & Desmoscolecidae & Desmocolex    & Desmocolex\\_sp3 & Desmocolex    & 1A      & Yes & 2007 & GulfofMexico & NotSeep & 2222 & 27.64819 &  -88.37472 & AT340.209 & WLB       & Tiago & 16Snem103 & NotSeep.nema\\\\\n",
       "\\end{tabular}\n"
      ],
      "text/markdown": [
       "\n",
       "A data.frame: 6 × 19\n",
       "\n",
       "| SampleID &lt;fct&gt; | NematodeOrder &lt;fct&gt; | NematodeFamily &lt;fct&gt; | NematodeGenus &lt;fct&gt; | NematodeID &lt;fct&gt; | NematodeID_combined &lt;fct&gt; | FeedingGroup &lt;fct&gt; | MorphVoucher &lt;fct&gt; | Year &lt;int&gt; | OceanRegion &lt;fct&gt; | Habitat &lt;fct&gt; | Depth &lt;int&gt; | Latitude &lt;dbl&gt; | Longitude &lt;dbl&gt; | SampleSite &lt;fct&gt; | DNA_Extraction &lt;fct&gt; | PickedBy &lt;fct&gt; | phinchID &lt;fct&gt; | Description &lt;fct&gt; |\n",
       "|---|---|---|---|---|---|---|---|---|---|---|---|---|---|---|---|---|---|---|\n",
       "| 16Snem1   | unknown      | unknown         | unknown       | Nematoda       | Nematoda      | unknown | No  | 2007 | GulfofMexico | Seep    | 1425 | 27.11997 |  -91.16508 | GC852.16  | water+WLB | Holly | 16Snem1   | Seep.nema    |\n",
       "| 16Snem11  | unknown      | unknown         | unknown       | Nematoda       | Nematoda      | unknown | No  | 2007 | GulfofMexico | Seep    | 2391 | 26.38718 |  -93.51293 | AC601.130 | water+WLB | Holly | 16Snem11  | Seep.nema    |\n",
       "| 16Snem100 | Monhysterida | Xyalidae        | Daptonema     | Daptonema      | Daptonema     | 1B      | No  | 2013 | BeaufortSea  | Arctic  |  750 | 70.43350 | -138.98340 | Gry.06    | WLB       | Tiago | 16Snem100 | Arctic.nema  |\n",
       "| 16Snem101 | Enoplida     | Oncholaimidae   | Oncholaimidae | Oncholaimidae  | Oncholaimidae | 2B      | No  | 2007 | GulfofMexico | NotSeep | 2222 | 27.64819 |  -88.37472 | AT340.209 | WLB       | Tiago | 16Snem101 | NotSeep.nema |\n",
       "| 16Snem102 | unknown      | unknown         | unknown       | Nematoda       | Nematoda      | unknown | No  | 2007 | GulfofMexico | NotSeep | 2222 | 27.64819 |  -88.37472 | AT340.209 | WLB       | Tiago | 16Snem102 | NotSeep.nema |\n",
       "| 16Snem103 | Chromadorida | Desmoscolecidae | Desmocolex    | Desmocolex_sp3 | Desmocolex    | 1A      | Yes | 2007 | GulfofMexico | NotSeep | 2222 | 27.64819 |  -88.37472 | AT340.209 | WLB       | Tiago | 16Snem103 | NotSeep.nema |\n",
       "\n"
      ],
      "text/plain": [
       "  SampleID  NematodeOrder NematodeFamily  NematodeGenus NematodeID    \n",
       "1 16Snem1   unknown       unknown         unknown       Nematoda      \n",
       "2 16Snem11  unknown       unknown         unknown       Nematoda      \n",
       "3 16Snem100 Monhysterida  Xyalidae        Daptonema     Daptonema     \n",
       "4 16Snem101 Enoplida      Oncholaimidae   Oncholaimidae Oncholaimidae \n",
       "5 16Snem102 unknown       unknown         unknown       Nematoda      \n",
       "6 16Snem103 Chromadorida  Desmoscolecidae Desmocolex    Desmocolex_sp3\n",
       "  NematodeID_combined FeedingGroup MorphVoucher Year OceanRegion  Habitat Depth\n",
       "1 Nematoda            unknown      No           2007 GulfofMexico Seep    1425 \n",
       "2 Nematoda            unknown      No           2007 GulfofMexico Seep    2391 \n",
       "3 Daptonema           1B           No           2013 BeaufortSea  Arctic   750 \n",
       "4 Oncholaimidae       2B           No           2007 GulfofMexico NotSeep 2222 \n",
       "5 Nematoda            unknown      No           2007 GulfofMexico NotSeep 2222 \n",
       "6 Desmocolex          1A           Yes          2007 GulfofMexico NotSeep 2222 \n",
       "  Latitude Longitude  SampleSite DNA_Extraction PickedBy phinchID  Description \n",
       "1 27.11997  -91.16508 GC852.16   water+WLB      Holly    16Snem1   Seep.nema   \n",
       "2 26.38718  -93.51293 AC601.130  water+WLB      Holly    16Snem11  Seep.nema   \n",
       "3 70.43350 -138.98340 Gry.06     WLB            Tiago    16Snem100 Arctic.nema \n",
       "4 27.64819  -88.37472 AT340.209  WLB            Tiago    16Snem101 NotSeep.nema\n",
       "5 27.64819  -88.37472 AT340.209  WLB            Tiago    16Snem102 NotSeep.nema\n",
       "6 27.64819  -88.37472 AT340.209  WLB            Tiago    16Snem103 NotSeep.nema"
      ]
     },
     "metadata": {},
     "output_type": "display_data"
    }
   ],
   "source": [
    "# setwd(\"/Users/m.maniscalco/Documents/jupyter-notebook-Binder-tutorial\")\n",
    "map_table <- \"example-data/mapping-file-w-metadata.txt\"\n",
    "map_table <- read.table(file.path(map_table), sep = \"\\t\", header = TRUE, check.names = FALSE)\n",
    "head(map_table)"
   ]
  },
  {
   "cell_type": "markdown",
   "metadata": {},
   "source": [
    "Second, we will upload the count data file."
   ]
  },
  {
   "cell_type": "code",
   "execution_count": 45,
   "metadata": {},
   "outputs": [
    {
     "data": {
      "text/html": [
       "<table>\n",
       "<caption>A data.frame: 6 × 19</caption>\n",
       "<thead>\n",
       "\t<tr><th scope=col>SampleID</th><th scope=col>1CMET2-PWY</th><th scope=col>ARGSYN-PWY</th><th scope=col>ARGSYNBSUB-PWY</th><th scope=col>P461-PWY</th><th scope=col>P562-PWY</th><th scope=col>P621-PWY</th><th scope=col>PANTO-PWY</th><th scope=col>PANTOSYN-PWY</th><th scope=col>PENTOSE-P-PWY</th><th scope=col>PEPTIDOGLYCANSYN-PWY</th><th scope=col>PHOSLIPSYN-PWY</th><th scope=col>POLYAMINSYN3-PWY</th><th scope=col>POLYAMSYN-PWY</th><th scope=col>ARO-PWY</th><th scope=col>POLYISOPRENSYN-PWY</th><th scope=col>PPGPPMET-PWY</th><th scope=col>PROTOCATECHUATE-ORTHO-CLEAVAGE-PWY</th><th scope=col>PRPP-PWY</th></tr>\n",
       "\t<tr><th scope=col>&lt;fct&gt;</th><th scope=col>&lt;dbl&gt;</th><th scope=col>&lt;dbl&gt;</th><th scope=col>&lt;dbl&gt;</th><th scope=col>&lt;dbl&gt;</th><th scope=col>&lt;dbl&gt;</th><th scope=col>&lt;dbl&gt;</th><th scope=col>&lt;dbl&gt;</th><th scope=col>&lt;dbl&gt;</th><th scope=col>&lt;dbl&gt;</th><th scope=col>&lt;dbl&gt;</th><th scope=col>&lt;dbl&gt;</th><th scope=col>&lt;dbl&gt;</th><th scope=col>&lt;dbl&gt;</th><th scope=col>&lt;dbl&gt;</th><th scope=col>&lt;dbl&gt;</th><th scope=col>&lt;dbl&gt;</th><th scope=col>&lt;dbl&gt;</th><th scope=col>&lt;dbl&gt;</th></tr>\n",
       "</thead>\n",
       "<tbody>\n",
       "\t<tr><td>16Snem1  </td><td>3696.066</td><td>3698.833</td><td>4119.343</td><td> 945.7760</td><td>1060.0679</td><td> 122.6210</td><td>3615.234</td><td>3719.077</td><td>3051.592</td><td>3883.261</td><td>4407.557</td><td> 744.9406</td><td>1357.231</td><td>4356.296</td><td>4013.101</td><td>2790.119</td><td>2706.0535</td><td>3335.816</td></tr>\n",
       "\t<tr><td>16Snem100</td><td>2389.906</td><td>2606.693</td><td>2849.895</td><td> 146.2190</td><td> 533.4529</td><td>   0.0000</td><td>2364.327</td><td>2493.150</td><td>1232.085</td><td>2300.700</td><td>2788.465</td><td> 989.8193</td><td>1016.388</td><td>2925.505</td><td>2481.834</td><td>1183.673</td><td>1452.6002</td><td>2151.801</td></tr>\n",
       "\t<tr><td>16Snem101</td><td>4036.068</td><td>4498.352</td><td>4474.021</td><td>1620.8331</td><td>1426.0818</td><td> 501.7587</td><td>4259.340</td><td>4373.293</td><td>3662.357</td><td>4552.112</td><td>4815.513</td><td>   0.0000</td><td>2061.028</td><td>4498.707</td><td>4244.392</td><td>3085.995</td><td>2908.9342</td><td>4374.081</td></tr>\n",
       "\t<tr><td>16Snem102</td><td>1872.929</td><td>2409.799</td><td>2517.938</td><td> 135.2921</td><td> 294.3585</td><td>   0.0000</td><td>1813.155</td><td>1712.666</td><td>2469.701</td><td>2181.324</td><td>2541.692</td><td> 494.1417</td><td>1237.934</td><td>2285.327</td><td>1858.381</td><td>1415.328</td><td> 976.2567</td><td>1666.517</td></tr>\n",
       "\t<tr><td>16Snem103</td><td>4899.050</td><td>4740.174</td><td>4657.052</td><td> 919.3931</td><td> 199.5137</td><td>1020.4024</td><td>4882.937</td><td>4947.571</td><td>4749.767</td><td>5082.785</td><td>5581.826</td><td>1353.0013</td><td>1763.406</td><td>5415.930</td><td>4880.102</td><td>3038.892</td><td>3633.8818</td><td>4577.253</td></tr>\n",
       "\t<tr><td>16Snem105</td><td>4002.694</td><td>3879.560</td><td>4431.468</td><td>1132.8961</td><td> 141.9247</td><td>   0.0000</td><td>4339.203</td><td>4263.160</td><td>1992.154</td><td>4041.499</td><td>4975.970</td><td> 870.9131</td><td>1202.017</td><td>4390.093</td><td>3901.927</td><td>3176.049</td><td>4583.9709</td><td>3979.257</td></tr>\n",
       "</tbody>\n",
       "</table>\n"
      ],
      "text/latex": [
       "A data.frame: 6 × 19\n",
       "\\begin{tabular}{r|lllllllllllllllllll}\n",
       " SampleID & 1CMET2-PWY & ARGSYN-PWY & ARGSYNBSUB-PWY & P461-PWY & P562-PWY & P621-PWY & PANTO-PWY & PANTOSYN-PWY & PENTOSE-P-PWY & PEPTIDOGLYCANSYN-PWY & PHOSLIPSYN-PWY & POLYAMINSYN3-PWY & POLYAMSYN-PWY & ARO-PWY & POLYISOPRENSYN-PWY & PPGPPMET-PWY & PROTOCATECHUATE-ORTHO-CLEAVAGE-PWY & PRPP-PWY\\\\\n",
       " <fct> & <dbl> & <dbl> & <dbl> & <dbl> & <dbl> & <dbl> & <dbl> & <dbl> & <dbl> & <dbl> & <dbl> & <dbl> & <dbl> & <dbl> & <dbl> & <dbl> & <dbl> & <dbl>\\\\\n",
       "\\hline\n",
       "\t 16Snem1   & 3696.066 & 3698.833 & 4119.343 &  945.7760 & 1060.0679 &  122.6210 & 3615.234 & 3719.077 & 3051.592 & 3883.261 & 4407.557 &  744.9406 & 1357.231 & 4356.296 & 4013.101 & 2790.119 & 2706.0535 & 3335.816\\\\\n",
       "\t 16Snem100 & 2389.906 & 2606.693 & 2849.895 &  146.2190 &  533.4529 &    0.0000 & 2364.327 & 2493.150 & 1232.085 & 2300.700 & 2788.465 &  989.8193 & 1016.388 & 2925.505 & 2481.834 & 1183.673 & 1452.6002 & 2151.801\\\\\n",
       "\t 16Snem101 & 4036.068 & 4498.352 & 4474.021 & 1620.8331 & 1426.0818 &  501.7587 & 4259.340 & 4373.293 & 3662.357 & 4552.112 & 4815.513 &    0.0000 & 2061.028 & 4498.707 & 4244.392 & 3085.995 & 2908.9342 & 4374.081\\\\\n",
       "\t 16Snem102 & 1872.929 & 2409.799 & 2517.938 &  135.2921 &  294.3585 &    0.0000 & 1813.155 & 1712.666 & 2469.701 & 2181.324 & 2541.692 &  494.1417 & 1237.934 & 2285.327 & 1858.381 & 1415.328 &  976.2567 & 1666.517\\\\\n",
       "\t 16Snem103 & 4899.050 & 4740.174 & 4657.052 &  919.3931 &  199.5137 & 1020.4024 & 4882.937 & 4947.571 & 4749.767 & 5082.785 & 5581.826 & 1353.0013 & 1763.406 & 5415.930 & 4880.102 & 3038.892 & 3633.8818 & 4577.253\\\\\n",
       "\t 16Snem105 & 4002.694 & 3879.560 & 4431.468 & 1132.8961 &  141.9247 &    0.0000 & 4339.203 & 4263.160 & 1992.154 & 4041.499 & 4975.970 &  870.9131 & 1202.017 & 4390.093 & 3901.927 & 3176.049 & 4583.9709 & 3979.257\\\\\n",
       "\\end{tabular}\n"
      ],
      "text/markdown": [
       "\n",
       "A data.frame: 6 × 19\n",
       "\n",
       "| SampleID &lt;fct&gt; | 1CMET2-PWY &lt;dbl&gt; | ARGSYN-PWY &lt;dbl&gt; | ARGSYNBSUB-PWY &lt;dbl&gt; | P461-PWY &lt;dbl&gt; | P562-PWY &lt;dbl&gt; | P621-PWY &lt;dbl&gt; | PANTO-PWY &lt;dbl&gt; | PANTOSYN-PWY &lt;dbl&gt; | PENTOSE-P-PWY &lt;dbl&gt; | PEPTIDOGLYCANSYN-PWY &lt;dbl&gt; | PHOSLIPSYN-PWY &lt;dbl&gt; | POLYAMINSYN3-PWY &lt;dbl&gt; | POLYAMSYN-PWY &lt;dbl&gt; | ARO-PWY &lt;dbl&gt; | POLYISOPRENSYN-PWY &lt;dbl&gt; | PPGPPMET-PWY &lt;dbl&gt; | PROTOCATECHUATE-ORTHO-CLEAVAGE-PWY &lt;dbl&gt; | PRPP-PWY &lt;dbl&gt; |\n",
       "|---|---|---|---|---|---|---|---|---|---|---|---|---|---|---|---|---|---|---|\n",
       "| 16Snem1   | 3696.066 | 3698.833 | 4119.343 |  945.7760 | 1060.0679 |  122.6210 | 3615.234 | 3719.077 | 3051.592 | 3883.261 | 4407.557 |  744.9406 | 1357.231 | 4356.296 | 4013.101 | 2790.119 | 2706.0535 | 3335.816 |\n",
       "| 16Snem100 | 2389.906 | 2606.693 | 2849.895 |  146.2190 |  533.4529 |    0.0000 | 2364.327 | 2493.150 | 1232.085 | 2300.700 | 2788.465 |  989.8193 | 1016.388 | 2925.505 | 2481.834 | 1183.673 | 1452.6002 | 2151.801 |\n",
       "| 16Snem101 | 4036.068 | 4498.352 | 4474.021 | 1620.8331 | 1426.0818 |  501.7587 | 4259.340 | 4373.293 | 3662.357 | 4552.112 | 4815.513 |    0.0000 | 2061.028 | 4498.707 | 4244.392 | 3085.995 | 2908.9342 | 4374.081 |\n",
       "| 16Snem102 | 1872.929 | 2409.799 | 2517.938 |  135.2921 |  294.3585 |    0.0000 | 1813.155 | 1712.666 | 2469.701 | 2181.324 | 2541.692 |  494.1417 | 1237.934 | 2285.327 | 1858.381 | 1415.328 |  976.2567 | 1666.517 |\n",
       "| 16Snem103 | 4899.050 | 4740.174 | 4657.052 |  919.3931 |  199.5137 | 1020.4024 | 4882.937 | 4947.571 | 4749.767 | 5082.785 | 5581.826 | 1353.0013 | 1763.406 | 5415.930 | 4880.102 | 3038.892 | 3633.8818 | 4577.253 |\n",
       "| 16Snem105 | 4002.694 | 3879.560 | 4431.468 | 1132.8961 |  141.9247 |    0.0000 | 4339.203 | 4263.160 | 1992.154 | 4041.499 | 4975.970 |  870.9131 | 1202.017 | 4390.093 | 3901.927 | 3176.049 | 4583.9709 | 3979.257 |\n",
       "\n"
      ],
      "text/plain": [
       "  SampleID  1CMET2-PWY ARGSYN-PWY ARGSYNBSUB-PWY P461-PWY  P562-PWY  P621-PWY \n",
       "1 16Snem1   3696.066   3698.833   4119.343        945.7760 1060.0679  122.6210\n",
       "2 16Snem100 2389.906   2606.693   2849.895        146.2190  533.4529    0.0000\n",
       "3 16Snem101 4036.068   4498.352   4474.021       1620.8331 1426.0818  501.7587\n",
       "4 16Snem102 1872.929   2409.799   2517.938        135.2921  294.3585    0.0000\n",
       "5 16Snem103 4899.050   4740.174   4657.052        919.3931  199.5137 1020.4024\n",
       "6 16Snem105 4002.694   3879.560   4431.468       1132.8961  141.9247    0.0000\n",
       "  PANTO-PWY PANTOSYN-PWY PENTOSE-P-PWY PEPTIDOGLYCANSYN-PWY PHOSLIPSYN-PWY\n",
       "1 3615.234  3719.077     3051.592      3883.261             4407.557      \n",
       "2 2364.327  2493.150     1232.085      2300.700             2788.465      \n",
       "3 4259.340  4373.293     3662.357      4552.112             4815.513      \n",
       "4 1813.155  1712.666     2469.701      2181.324             2541.692      \n",
       "5 4882.937  4947.571     4749.767      5082.785             5581.826      \n",
       "6 4339.203  4263.160     1992.154      4041.499             4975.970      \n",
       "  POLYAMINSYN3-PWY POLYAMSYN-PWY ARO-PWY  POLYISOPRENSYN-PWY PPGPPMET-PWY\n",
       "1  744.9406        1357.231      4356.296 4013.101           2790.119    \n",
       "2  989.8193        1016.388      2925.505 2481.834           1183.673    \n",
       "3    0.0000        2061.028      4498.707 4244.392           3085.995    \n",
       "4  494.1417        1237.934      2285.327 1858.381           1415.328    \n",
       "5 1353.0013        1763.406      5415.930 4880.102           3038.892    \n",
       "6  870.9131        1202.017      4390.093 3901.927           3176.049    \n",
       "  PROTOCATECHUATE-ORTHO-CLEAVAGE-PWY PRPP-PWY\n",
       "1 2706.0535                          3335.816\n",
       "2 1452.6002                          2151.801\n",
       "3 2908.9342                          4374.081\n",
       "4  976.2567                          1666.517\n",
       "5 3633.8818                          4577.253\n",
       "6 4583.9709                          3979.257"
      ]
     },
     "metadata": {},
     "output_type": "display_data"
    }
   ],
   "source": [
    "pthwy <- read.table(file.path(\"example-data/pathways-count-data.txt\"), sep = \"\\t\", header = TRUE, check.names = FALSE)\n",
    "head(pthwy)"
   ]
  },
  {
   "cell_type": "markdown",
   "metadata": {},
   "source": [
    " Now, let's wrangle some data, eh?!"
   ]
  },
  {
   "cell_type": "code",
   "execution_count": 46,
   "metadata": {},
   "outputs": [
    {
     "data": {
      "text/html": [
       "<table>\n",
       "<caption>A data.frame: 6 × 37</caption>\n",
       "<thead>\n",
       "\t<tr><th scope=col>SampleID</th><th scope=col>1CMET2-PWY</th><th scope=col>ARGSYN-PWY</th><th scope=col>ARGSYNBSUB-PWY</th><th scope=col>P461-PWY</th><th scope=col>P562-PWY</th><th scope=col>P621-PWY</th><th scope=col>PANTO-PWY</th><th scope=col>PANTOSYN-PWY</th><th scope=col>PENTOSE-P-PWY</th><th scope=col>⋯</th><th scope=col>OceanRegion</th><th scope=col>Habitat</th><th scope=col>Depth</th><th scope=col>Latitude</th><th scope=col>Longitude</th><th scope=col>SampleSite</th><th scope=col>DNA_Extraction</th><th scope=col>PickedBy</th><th scope=col>phinchID</th><th scope=col>Description</th></tr>\n",
       "\t<tr><th scope=col>&lt;fct&gt;</th><th scope=col>&lt;dbl&gt;</th><th scope=col>&lt;dbl&gt;</th><th scope=col>&lt;dbl&gt;</th><th scope=col>&lt;dbl&gt;</th><th scope=col>&lt;dbl&gt;</th><th scope=col>&lt;dbl&gt;</th><th scope=col>&lt;dbl&gt;</th><th scope=col>&lt;dbl&gt;</th><th scope=col>&lt;dbl&gt;</th><th scope=col>⋯</th><th scope=col>&lt;fct&gt;</th><th scope=col>&lt;fct&gt;</th><th scope=col>&lt;int&gt;</th><th scope=col>&lt;dbl&gt;</th><th scope=col>&lt;dbl&gt;</th><th scope=col>&lt;fct&gt;</th><th scope=col>&lt;fct&gt;</th><th scope=col>&lt;fct&gt;</th><th scope=col>&lt;fct&gt;</th><th scope=col>&lt;fct&gt;</th></tr>\n",
       "</thead>\n",
       "<tbody>\n",
       "\t<tr><td>16Snem1  </td><td>3696.066</td><td>3698.833</td><td>4119.343</td><td> 945.7760</td><td>1060.0679</td><td> 122.6210</td><td>3615.234</td><td>3719.077</td><td>3051.592</td><td>⋯</td><td>GulfofMexico</td><td>Seep   </td><td>1425</td><td>27.11997</td><td> -91.16508</td><td>GC852.16 </td><td>water+WLB</td><td>Holly</td><td>16Snem1  </td><td>Seep.nema   </td></tr>\n",
       "\t<tr><td>16Snem100</td><td>2389.906</td><td>2606.693</td><td>2849.895</td><td> 146.2190</td><td> 533.4529</td><td>   0.0000</td><td>2364.327</td><td>2493.150</td><td>1232.085</td><td>⋯</td><td>BeaufortSea </td><td>Arctic </td><td> 750</td><td>70.43350</td><td>-138.98340</td><td>Gry.06   </td><td>WLB      </td><td>Tiago</td><td>16Snem100</td><td>Arctic.nema </td></tr>\n",
       "\t<tr><td>16Snem101</td><td>4036.068</td><td>4498.352</td><td>4474.021</td><td>1620.8331</td><td>1426.0818</td><td> 501.7587</td><td>4259.340</td><td>4373.293</td><td>3662.357</td><td>⋯</td><td>GulfofMexico</td><td>NotSeep</td><td>2222</td><td>27.64819</td><td> -88.37472</td><td>AT340.209</td><td>WLB      </td><td>Tiago</td><td>16Snem101</td><td>NotSeep.nema</td></tr>\n",
       "\t<tr><td>16Snem102</td><td>1872.929</td><td>2409.799</td><td>2517.938</td><td> 135.2921</td><td> 294.3585</td><td>   0.0000</td><td>1813.155</td><td>1712.666</td><td>2469.701</td><td>⋯</td><td>GulfofMexico</td><td>NotSeep</td><td>2222</td><td>27.64819</td><td> -88.37472</td><td>AT340.209</td><td>WLB      </td><td>Tiago</td><td>16Snem102</td><td>NotSeep.nema</td></tr>\n",
       "\t<tr><td>16Snem103</td><td>4899.050</td><td>4740.174</td><td>4657.052</td><td> 919.3931</td><td> 199.5137</td><td>1020.4024</td><td>4882.937</td><td>4947.571</td><td>4749.767</td><td>⋯</td><td>GulfofMexico</td><td>NotSeep</td><td>2222</td><td>27.64819</td><td> -88.37472</td><td>AT340.209</td><td>WLB      </td><td>Tiago</td><td>16Snem103</td><td>NotSeep.nema</td></tr>\n",
       "\t<tr><td>16Snem105</td><td>4002.694</td><td>3879.560</td><td>4431.468</td><td>1132.8961</td><td> 141.9247</td><td>   0.0000</td><td>4339.203</td><td>4263.160</td><td>1992.154</td><td>⋯</td><td>GulfofMexico</td><td>NotSeep</td><td>2222</td><td>27.64819</td><td> -88.37472</td><td>AT340.209</td><td>WLB      </td><td>Tiago</td><td>16Snem105</td><td>NotSeep.nema</td></tr>\n",
       "</tbody>\n",
       "</table>\n"
      ],
      "text/latex": [
       "A data.frame: 6 × 37\n",
       "\\begin{tabular}{r|lllllllllllllllllllllllllllllllllllll}\n",
       " SampleID & 1CMET2-PWY & ARGSYN-PWY & ARGSYNBSUB-PWY & P461-PWY & P562-PWY & P621-PWY & PANTO-PWY & PANTOSYN-PWY & PENTOSE-P-PWY & PEPTIDOGLYCANSYN-PWY & PHOSLIPSYN-PWY & POLYAMINSYN3-PWY & POLYAMSYN-PWY & ARO-PWY & POLYISOPRENSYN-PWY & PPGPPMET-PWY & PROTOCATECHUATE-ORTHO-CLEAVAGE-PWY & PRPP-PWY & NematodeOrder & NematodeFamily & NematodeGenus & NematodeID & NematodeID\\_combined & FeedingGroup & MorphVoucher & Year & OceanRegion & Habitat & Depth & Latitude & Longitude & SampleSite & DNA\\_Extraction & PickedBy & phinchID & Description\\\\\n",
       " <fct> & <dbl> & <dbl> & <dbl> & <dbl> & <dbl> & <dbl> & <dbl> & <dbl> & <dbl> & <dbl> & <dbl> & <dbl> & <dbl> & <dbl> & <dbl> & <dbl> & <dbl> & <dbl> & <fct> & <fct> & <fct> & <fct> & <fct> & <fct> & <fct> & <int> & <fct> & <fct> & <int> & <dbl> & <dbl> & <fct> & <fct> & <fct> & <fct> & <fct>\\\\\n",
       "\\hline\n",
       "\t 16Snem1   & 3696.066 & 3698.833 & 4119.343 &  945.7760 & 1060.0679 &  122.6210 & 3615.234 & 3719.077 & 3051.592 & 3883.261 & 4407.557 &  744.9406 & 1357.231 & 4356.296 & 4013.101 & 2790.119 & 2706.0535 & 3335.816 & unknown      & unknown         & unknown       & Nematoda       & Nematoda      & unknown & No  & 2007 & GulfofMexico & Seep    & 1425 & 27.11997 &  -91.16508 & GC852.16  & water+WLB & Holly & 16Snem1   & Seep.nema   \\\\\n",
       "\t 16Snem100 & 2389.906 & 2606.693 & 2849.895 &  146.2190 &  533.4529 &    0.0000 & 2364.327 & 2493.150 & 1232.085 & 2300.700 & 2788.465 &  989.8193 & 1016.388 & 2925.505 & 2481.834 & 1183.673 & 1452.6002 & 2151.801 & Monhysterida & Xyalidae        & Daptonema     & Daptonema      & Daptonema     & 1B      & No  & 2013 & BeaufortSea  & Arctic  &  750 & 70.43350 & -138.98340 & Gry.06    & WLB       & Tiago & 16Snem100 & Arctic.nema \\\\\n",
       "\t 16Snem101 & 4036.068 & 4498.352 & 4474.021 & 1620.8331 & 1426.0818 &  501.7587 & 4259.340 & 4373.293 & 3662.357 & 4552.112 & 4815.513 &    0.0000 & 2061.028 & 4498.707 & 4244.392 & 3085.995 & 2908.9342 & 4374.081 & Enoplida     & Oncholaimidae   & Oncholaimidae & Oncholaimidae  & Oncholaimidae & 2B      & No  & 2007 & GulfofMexico & NotSeep & 2222 & 27.64819 &  -88.37472 & AT340.209 & WLB       & Tiago & 16Snem101 & NotSeep.nema\\\\\n",
       "\t 16Snem102 & 1872.929 & 2409.799 & 2517.938 &  135.2921 &  294.3585 &    0.0000 & 1813.155 & 1712.666 & 2469.701 & 2181.324 & 2541.692 &  494.1417 & 1237.934 & 2285.327 & 1858.381 & 1415.328 &  976.2567 & 1666.517 & unknown      & unknown         & unknown       & Nematoda       & Nematoda      & unknown & No  & 2007 & GulfofMexico & NotSeep & 2222 & 27.64819 &  -88.37472 & AT340.209 & WLB       & Tiago & 16Snem102 & NotSeep.nema\\\\\n",
       "\t 16Snem103 & 4899.050 & 4740.174 & 4657.052 &  919.3931 &  199.5137 & 1020.4024 & 4882.937 & 4947.571 & 4749.767 & 5082.785 & 5581.826 & 1353.0013 & 1763.406 & 5415.930 & 4880.102 & 3038.892 & 3633.8818 & 4577.253 & Chromadorida & Desmoscolecidae & Desmocolex    & Desmocolex\\_sp3 & Desmocolex    & 1A      & Yes & 2007 & GulfofMexico & NotSeep & 2222 & 27.64819 &  -88.37472 & AT340.209 & WLB       & Tiago & 16Snem103 & NotSeep.nema\\\\\n",
       "\t 16Snem105 & 4002.694 & 3879.560 & 4431.468 & 1132.8961 &  141.9247 &    0.0000 & 4339.203 & 4263.160 & 1992.154 & 4041.499 & 4975.970 &  870.9131 & 1202.017 & 4390.093 & 3901.927 & 3176.049 & 4583.9709 & 3979.257 & Chromadorida & Desmoscolecidae & Desmocolex    & Desmocolex\\_sp1 & Desmocolex    & 1A      & No  & 2007 & GulfofMexico & NotSeep & 2222 & 27.64819 &  -88.37472 & AT340.209 & WLB       & Tiago & 16Snem105 & NotSeep.nema\\\\\n",
       "\\end{tabular}\n"
      ],
      "text/markdown": [
       "\n",
       "A data.frame: 6 × 37\n",
       "\n",
       "| SampleID &lt;fct&gt; | 1CMET2-PWY &lt;dbl&gt; | ARGSYN-PWY &lt;dbl&gt; | ARGSYNBSUB-PWY &lt;dbl&gt; | P461-PWY &lt;dbl&gt; | P562-PWY &lt;dbl&gt; | P621-PWY &lt;dbl&gt; | PANTO-PWY &lt;dbl&gt; | PANTOSYN-PWY &lt;dbl&gt; | PENTOSE-P-PWY &lt;dbl&gt; | ⋯ ⋯ | OceanRegion &lt;fct&gt; | Habitat &lt;fct&gt; | Depth &lt;int&gt; | Latitude &lt;dbl&gt; | Longitude &lt;dbl&gt; | SampleSite &lt;fct&gt; | DNA_Extraction &lt;fct&gt; | PickedBy &lt;fct&gt; | phinchID &lt;fct&gt; | Description &lt;fct&gt; |\n",
       "|---|---|---|---|---|---|---|---|---|---|---|---|---|---|---|---|---|---|---|---|---|\n",
       "| 16Snem1   | 3696.066 | 3698.833 | 4119.343 |  945.7760 | 1060.0679 |  122.6210 | 3615.234 | 3719.077 | 3051.592 | ⋯ | GulfofMexico | Seep    | 1425 | 27.11997 |  -91.16508 | GC852.16  | water+WLB | Holly | 16Snem1   | Seep.nema    |\n",
       "| 16Snem100 | 2389.906 | 2606.693 | 2849.895 |  146.2190 |  533.4529 |    0.0000 | 2364.327 | 2493.150 | 1232.085 | ⋯ | BeaufortSea  | Arctic  |  750 | 70.43350 | -138.98340 | Gry.06    | WLB       | Tiago | 16Snem100 | Arctic.nema  |\n",
       "| 16Snem101 | 4036.068 | 4498.352 | 4474.021 | 1620.8331 | 1426.0818 |  501.7587 | 4259.340 | 4373.293 | 3662.357 | ⋯ | GulfofMexico | NotSeep | 2222 | 27.64819 |  -88.37472 | AT340.209 | WLB       | Tiago | 16Snem101 | NotSeep.nema |\n",
       "| 16Snem102 | 1872.929 | 2409.799 | 2517.938 |  135.2921 |  294.3585 |    0.0000 | 1813.155 | 1712.666 | 2469.701 | ⋯ | GulfofMexico | NotSeep | 2222 | 27.64819 |  -88.37472 | AT340.209 | WLB       | Tiago | 16Snem102 | NotSeep.nema |\n",
       "| 16Snem103 | 4899.050 | 4740.174 | 4657.052 |  919.3931 |  199.5137 | 1020.4024 | 4882.937 | 4947.571 | 4749.767 | ⋯ | GulfofMexico | NotSeep | 2222 | 27.64819 |  -88.37472 | AT340.209 | WLB       | Tiago | 16Snem103 | NotSeep.nema |\n",
       "| 16Snem105 | 4002.694 | 3879.560 | 4431.468 | 1132.8961 |  141.9247 |    0.0000 | 4339.203 | 4263.160 | 1992.154 | ⋯ | GulfofMexico | NotSeep | 2222 | 27.64819 |  -88.37472 | AT340.209 | WLB       | Tiago | 16Snem105 | NotSeep.nema |\n",
       "\n"
      ],
      "text/plain": [
       "  SampleID  1CMET2-PWY ARGSYN-PWY ARGSYNBSUB-PWY P461-PWY  P562-PWY  P621-PWY \n",
       "1 16Snem1   3696.066   3698.833   4119.343        945.7760 1060.0679  122.6210\n",
       "2 16Snem100 2389.906   2606.693   2849.895        146.2190  533.4529    0.0000\n",
       "3 16Snem101 4036.068   4498.352   4474.021       1620.8331 1426.0818  501.7587\n",
       "4 16Snem102 1872.929   2409.799   2517.938        135.2921  294.3585    0.0000\n",
       "5 16Snem103 4899.050   4740.174   4657.052        919.3931  199.5137 1020.4024\n",
       "6 16Snem105 4002.694   3879.560   4431.468       1132.8961  141.9247    0.0000\n",
       "  PANTO-PWY PANTOSYN-PWY PENTOSE-P-PWY ⋯ OceanRegion  Habitat Depth Latitude\n",
       "1 3615.234  3719.077     3051.592      ⋯ GulfofMexico Seep    1425  27.11997\n",
       "2 2364.327  2493.150     1232.085      ⋯ BeaufortSea  Arctic   750  70.43350\n",
       "3 4259.340  4373.293     3662.357      ⋯ GulfofMexico NotSeep 2222  27.64819\n",
       "4 1813.155  1712.666     2469.701      ⋯ GulfofMexico NotSeep 2222  27.64819\n",
       "5 4882.937  4947.571     4749.767      ⋯ GulfofMexico NotSeep 2222  27.64819\n",
       "6 4339.203  4263.160     1992.154      ⋯ GulfofMexico NotSeep 2222  27.64819\n",
       "  Longitude  SampleSite DNA_Extraction PickedBy phinchID  Description \n",
       "1  -91.16508 GC852.16   water+WLB      Holly    16Snem1   Seep.nema   \n",
       "2 -138.98340 Gry.06     WLB            Tiago    16Snem100 Arctic.nema \n",
       "3  -88.37472 AT340.209  WLB            Tiago    16Snem101 NotSeep.nema\n",
       "4  -88.37472 AT340.209  WLB            Tiago    16Snem102 NotSeep.nema\n",
       "5  -88.37472 AT340.209  WLB            Tiago    16Snem103 NotSeep.nema\n",
       "6  -88.37472 AT340.209  WLB            Tiago    16Snem105 NotSeep.nema"
      ]
     },
     "metadata": {},
     "output_type": "display_data"
    },
    {
     "name": "stdout",
     "output_type": "stream",
     "text": [
      "'data.frame':\t13 obs. of  37 variables:\n",
      " $ SampleID                          : Factor w/ 13 levels \"16Snem1\",\"16Snem100\",..: 1 2 3 4 5 6 7 8 9 10 ...\n",
      " $ 1CMET2-PWY                        : num  3696 2390 4036 1873 4899 ...\n",
      " $ ARGSYN-PWY                        : num  3699 2607 4498 2410 4740 ...\n",
      " $ ARGSYNBSUB-PWY                    : num  4119 2850 4474 2518 4657 ...\n",
      " $ P461-PWY                          : num  946 146 1621 135 919 ...\n",
      " $ P562-PWY                          : num  1060 533 1426 294 200 ...\n",
      " $ P621-PWY                          : num  123 0 502 0 1020 ...\n",
      " $ PANTO-PWY                         : num  3615 2364 4259 1813 4883 ...\n",
      " $ PANTOSYN-PWY                      : num  3719 2493 4373 1713 4948 ...\n",
      " $ PENTOSE-P-PWY                     : num  3052 1232 3662 2470 4750 ...\n",
      " $ PEPTIDOGLYCANSYN-PWY              : num  3883 2301 4552 2181 5083 ...\n",
      " $ PHOSLIPSYN-PWY                    : num  4408 2788 4816 2542 5582 ...\n",
      " $ POLYAMINSYN3-PWY                  : num  745 990 0 494 1353 ...\n",
      " $ POLYAMSYN-PWY                     : num  1357 1016 2061 1238 1763 ...\n",
      " $ ARO-PWY                           : num  4356 2926 4499 2285 5416 ...\n",
      " $ POLYISOPRENSYN-PWY                : num  4013 2482 4244 1858 4880 ...\n",
      " $ PPGPPMET-PWY                      : num  2790 1184 3086 1415 3039 ...\n",
      " $ PROTOCATECHUATE-ORTHO-CLEAVAGE-PWY: num  2706 1453 2909 976 3634 ...\n",
      " $ PRPP-PWY                          : num  3336 2152 4374 1667 4577 ...\n",
      " $ NematodeOrder                     : Factor w/ 4 levels \"Chromadorida\",..: 4 3 2 4 1 1 2 1 4 4 ...\n",
      " $ NematodeFamily                    : Factor w/ 6 levels \"Cyatholaimidae\",..: 5 6 4 5 2 2 4 3 5 5 ...\n",
      " $ NematodeGenus                     : Factor w/ 8 levels \"Comesa\",\"Cyatholaimidae\",..: 7 3 5 7 4 4 8 1 7 7 ...\n",
      " $ NematodeID                        : Factor w/ 9 levels \"Comesa\",\"Cyatholaimidae\",..: 6 3 7 6 5 4 9 1 6 6 ...\n",
      " $ NematodeID_combined               : Factor w/ 8 levels \"Comesa\",\"Cyatholaimidae\",..: 5 3 6 5 4 4 8 1 5 5 ...\n",
      " $ FeedingGroup                      : Factor w/ 5 levels \"1A\",\"1B\",\"2A\",..: 5 2 4 5 1 1 4 3 5 5 ...\n",
      " $ MorphVoucher                      : Factor w/ 2 levels \"No\",\"Yes\": 1 1 1 1 2 1 2 2 2 1 ...\n",
      " $ Year                              : int  2007 2013 2007 2007 2007 2007 2007 2007 2007 2007 ...\n",
      " $ OceanRegion                       : Factor w/ 2 levels \"BeaufortSea\",..: 2 1 2 2 2 2 2 2 2 2 ...\n",
      " $ Habitat                           : Factor w/ 3 levels \"Arctic\",\"NotSeep\",..: 3 1 2 2 2 2 3 3 3 3 ...\n",
      " $ Depth                             : int  1425 750 2222 2222 2222 2222 1425 1425 1425 2391 ...\n",
      " $ Latitude                          : num  27.1 70.4 27.6 27.6 27.6 ...\n",
      " $ Longitude                         : num  -91.2 -139 -88.4 -88.4 -88.4 ...\n",
      " $ SampleSite                        : Factor w/ 4 levels \"AC601.130\",\"AT340.209\",..: 3 4 2 2 2 2 3 3 3 1 ...\n",
      " $ DNA_Extraction                    : Factor w/ 2 levels \"water+WLB\",\"WLB\": 1 2 2 2 2 2 2 2 2 1 ...\n",
      " $ PickedBy                          : Factor w/ 2 levels \"Holly\",\"Tiago\": 1 2 2 2 2 2 2 2 2 1 ...\n",
      " $ phinchID                          : Factor w/ 13 levels \"16Snem1\",\"16Snem100\",..: 1 2 3 4 5 6 7 8 9 10 ...\n",
      " $ Description                       : Factor w/ 3 levels \"Arctic.nema\",..: 3 1 2 2 2 2 3 3 3 3 ...\n"
     ]
    }
   ],
   "source": [
    "merged_obj <- merge(pthwy, map_table)\n",
    "head(merged_obj)\n",
    "str(merged_obj)"
   ]
  },
  {
   "cell_type": "markdown",
   "metadata": {},
   "source": [
    "needs comment here"
   ]
  },
  {
   "cell_type": "code",
   "execution_count": 47,
   "metadata": {},
   "outputs": [
    {
     "data": {
      "text/html": [
       "<table>\n",
       "<caption>A tibble: 2 × 23</caption>\n",
       "<thead>\n",
       "\t<tr><th scope=col>OceanRegion</th><th scope=col>1CMET2-PWY</th><th scope=col>ARGSYN-PWY</th><th scope=col>ARGSYNBSUB-PWY</th><th scope=col>P461-PWY</th><th scope=col>P562-PWY</th><th scope=col>P621-PWY</th><th scope=col>PANTO-PWY</th><th scope=col>PANTOSYN-PWY</th><th scope=col>PENTOSE-P-PWY</th><th scope=col>⋯</th><th scope=col>POLYAMSYN-PWY</th><th scope=col>ARO-PWY</th><th scope=col>POLYISOPRENSYN-PWY</th><th scope=col>PPGPPMET-PWY</th><th scope=col>PROTOCATECHUATE-ORTHO-CLEAVAGE-PWY</th><th scope=col>PRPP-PWY</th><th scope=col>Year</th><th scope=col>Depth</th><th scope=col>Latitude</th><th scope=col>Longitude</th></tr>\n",
       "\t<tr><th scope=col>&lt;fct&gt;</th><th scope=col>&lt;dbl&gt;</th><th scope=col>&lt;dbl&gt;</th><th scope=col>&lt;dbl&gt;</th><th scope=col>&lt;dbl&gt;</th><th scope=col>&lt;dbl&gt;</th><th scope=col>&lt;dbl&gt;</th><th scope=col>&lt;dbl&gt;</th><th scope=col>&lt;dbl&gt;</th><th scope=col>&lt;dbl&gt;</th><th scope=col>⋯</th><th scope=col>&lt;dbl&gt;</th><th scope=col>&lt;dbl&gt;</th><th scope=col>&lt;dbl&gt;</th><th scope=col>&lt;dbl&gt;</th><th scope=col>&lt;dbl&gt;</th><th scope=col>&lt;dbl&gt;</th><th scope=col>&lt;int&gt;</th><th scope=col>&lt;int&gt;</th><th scope=col>&lt;dbl&gt;</th><th scope=col>&lt;dbl&gt;</th></tr>\n",
       "</thead>\n",
       "<tbody>\n",
       "\t<tr><td>BeaufortSea </td><td> 2389.906</td><td> 2606.693</td><td> 2849.895</td><td>  146.219</td><td> 533.4529</td><td>   0.000</td><td> 2364.327</td><td> 2493.15</td><td> 1232.085</td><td>⋯</td><td> 1016.388</td><td> 2925.505</td><td> 2481.834</td><td> 1183.673</td><td> 1452.60</td><td> 2151.801</td><td> 2013</td><td>  750</td><td> 70.4335</td><td> -138.9834</td></tr>\n",
       "\t<tr><td>GulfofMexico</td><td>46583.784</td><td>43164.608</td><td>45969.392</td><td>11163.800</td><td>5505.5870</td><td>7228.875</td><td>43792.924</td><td>42888.93</td><td>48342.351</td><td>⋯</td><td>15428.875</td><td>50484.830</td><td>52943.880</td><td>30587.073</td><td>39050.58</td><td>46385.173</td><td>24084</td><td>21254</td><td>326.8197</td><td>-1085.1674</td></tr>\n",
       "</tbody>\n",
       "</table>\n"
      ],
      "text/latex": [
       "A tibble: 2 × 23\n",
       "\\begin{tabular}{r|lllllllllllllllllllllll}\n",
       " OceanRegion & 1CMET2-PWY & ARGSYN-PWY & ARGSYNBSUB-PWY & P461-PWY & P562-PWY & P621-PWY & PANTO-PWY & PANTOSYN-PWY & PENTOSE-P-PWY & PEPTIDOGLYCANSYN-PWY & PHOSLIPSYN-PWY & POLYAMINSYN3-PWY & POLYAMSYN-PWY & ARO-PWY & POLYISOPRENSYN-PWY & PPGPPMET-PWY & PROTOCATECHUATE-ORTHO-CLEAVAGE-PWY & PRPP-PWY & Year & Depth & Latitude & Longitude\\\\\n",
       " <fct> & <dbl> & <dbl> & <dbl> & <dbl> & <dbl> & <dbl> & <dbl> & <dbl> & <dbl> & <dbl> & <dbl> & <dbl> & <dbl> & <dbl> & <dbl> & <dbl> & <dbl> & <dbl> & <int> & <int> & <dbl> & <dbl>\\\\\n",
       "\\hline\n",
       "\t BeaufortSea  &  2389.906 &  2606.693 &  2849.895 &   146.219 &  533.4529 &    0.000 &  2364.327 &  2493.15 &  1232.085 &  2300.70 &  2788.465 &  989.8193 &  1016.388 &  2925.505 &  2481.834 &  1183.673 &  1452.60 &  2151.801 &  2013 &   750 &  70.4335 &  -138.9834\\\\\n",
       "\t GulfofMexico & 46583.784 & 43164.608 & 45969.392 & 11163.800 & 5505.5870 & 7228.875 & 43792.924 & 42888.93 & 48342.351 & 55045.63 & 61963.768 & 8951.1129 & 15428.875 & 50484.830 & 52943.880 & 30587.073 & 39050.58 & 46385.173 & 24084 & 21254 & 326.8197 & -1085.1674\\\\\n",
       "\\end{tabular}\n"
      ],
      "text/markdown": [
       "\n",
       "A tibble: 2 × 23\n",
       "\n",
       "| OceanRegion &lt;fct&gt; | 1CMET2-PWY &lt;dbl&gt; | ARGSYN-PWY &lt;dbl&gt; | ARGSYNBSUB-PWY &lt;dbl&gt; | P461-PWY &lt;dbl&gt; | P562-PWY &lt;dbl&gt; | P621-PWY &lt;dbl&gt; | PANTO-PWY &lt;dbl&gt; | PANTOSYN-PWY &lt;dbl&gt; | PENTOSE-P-PWY &lt;dbl&gt; | ⋯ ⋯ | POLYAMSYN-PWY &lt;dbl&gt; | ARO-PWY &lt;dbl&gt; | POLYISOPRENSYN-PWY &lt;dbl&gt; | PPGPPMET-PWY &lt;dbl&gt; | PROTOCATECHUATE-ORTHO-CLEAVAGE-PWY &lt;dbl&gt; | PRPP-PWY &lt;dbl&gt; | Year &lt;int&gt; | Depth &lt;int&gt; | Latitude &lt;dbl&gt; | Longitude &lt;dbl&gt; |\n",
       "|---|---|---|---|---|---|---|---|---|---|---|---|---|---|---|---|---|---|---|---|---|\n",
       "| BeaufortSea  |  2389.906 |  2606.693 |  2849.895 |   146.219 |  533.4529 |    0.000 |  2364.327 |  2493.15 |  1232.085 | ⋯ |  1016.388 |  2925.505 |  2481.834 |  1183.673 |  1452.60 |  2151.801 |  2013 |   750 |  70.4335 |  -138.9834 |\n",
       "| GulfofMexico | 46583.784 | 43164.608 | 45969.392 | 11163.800 | 5505.5870 | 7228.875 | 43792.924 | 42888.93 | 48342.351 | ⋯ | 15428.875 | 50484.830 | 52943.880 | 30587.073 | 39050.58 | 46385.173 | 24084 | 21254 | 326.8197 | -1085.1674 |\n",
       "\n"
      ],
      "text/plain": [
       "  OceanRegion  1CMET2-PWY ARGSYN-PWY ARGSYNBSUB-PWY P461-PWY  P562-PWY \n",
       "1 BeaufortSea   2389.906   2606.693   2849.895        146.219  533.4529\n",
       "2 GulfofMexico 46583.784  43164.608  45969.392      11163.800 5505.5870\n",
       "  P621-PWY PANTO-PWY PANTOSYN-PWY PENTOSE-P-PWY ⋯ POLYAMSYN-PWY ARO-PWY  \n",
       "1    0.000  2364.327  2493.15      1232.085     ⋯  1016.388      2925.505\n",
       "2 7228.875 43792.924 42888.93     48342.351     ⋯ 15428.875     50484.830\n",
       "  POLYISOPRENSYN-PWY PPGPPMET-PWY PROTOCATECHUATE-ORTHO-CLEAVAGE-PWY PRPP-PWY \n",
       "1  2481.834           1183.673     1452.60                            2151.801\n",
       "2 52943.880          30587.073    39050.58                           46385.173\n",
       "  Year  Depth Latitude Longitude \n",
       "1  2013   750  70.4335  -138.9834\n",
       "2 24084 21254 326.8197 -1085.1674"
      ]
     },
     "metadata": {},
     "output_type": "display_data"
    }
   ],
   "source": [
    "merged_obj_oceanregion <- merged_obj %>%\n",
    "  group_by(OceanRegion) %>%\n",
    "  summarise_if(is.numeric, sum, na.rm = TRUE)\n",
    "head(merged_obj_oceanregion)"
   ]
  },
  {
   "cell_type": "markdown",
   "metadata": {},
   "source": [
    "needs comment here"
   ]
  },
  {
   "cell_type": "code",
   "execution_count": 48,
   "metadata": {},
   "outputs": [
    {
     "name": "stderr",
     "output_type": "stream",
     "text": [
      "Warning message:\n",
      "“attributes are not identical across measure variables;\n",
      "they will be dropped”"
     ]
    },
    {
     "data": {
      "text/html": [
       "<table>\n",
       "<caption>A tibble: 6 × 3</caption>\n",
       "<thead>\n",
       "\t<tr><th scope=col>OceanRegion</th><th scope=col>BeaufortSea</th><th scope=col>GulfofMexico</th></tr>\n",
       "\t<tr><th scope=col>&lt;chr&gt;</th><th scope=col>&lt;chr&gt;</th><th scope=col>&lt;chr&gt;</th></tr>\n",
       "</thead>\n",
       "<tbody>\n",
       "\t<tr><td>1CMET2-PWY    </td><td>2389.9064</td><td>46583.7836</td></tr>\n",
       "\t<tr><td>ARGSYN-PWY    </td><td>2606.6932</td><td>43164.6076</td></tr>\n",
       "\t<tr><td>ARGSYNBSUB-PWY</td><td>2849.8948</td><td>45969.3918</td></tr>\n",
       "\t<tr><td>P461-PWY      </td><td>146.219  </td><td>11163.7997</td></tr>\n",
       "\t<tr><td>P562-PWY      </td><td>533.4529 </td><td>5505.587  </td></tr>\n",
       "\t<tr><td>P621-PWY      </td><td>0        </td><td>7228.8754 </td></tr>\n",
       "</tbody>\n",
       "</table>\n"
      ],
      "text/latex": [
       "A tibble: 6 × 3\n",
       "\\begin{tabular}{r|lll}\n",
       " OceanRegion & BeaufortSea & GulfofMexico\\\\\n",
       " <chr> & <chr> & <chr>\\\\\n",
       "\\hline\n",
       "\t 1CMET2-PWY     & 2389.9064 & 46583.7836\\\\\n",
       "\t ARGSYN-PWY     & 2606.6932 & 43164.6076\\\\\n",
       "\t ARGSYNBSUB-PWY & 2849.8948 & 45969.3918\\\\\n",
       "\t P461-PWY       & 146.219   & 11163.7997\\\\\n",
       "\t P562-PWY       & 533.4529  & 5505.587  \\\\\n",
       "\t P621-PWY       & 0         & 7228.8754 \\\\\n",
       "\\end{tabular}\n"
      ],
      "text/markdown": [
       "\n",
       "A tibble: 6 × 3\n",
       "\n",
       "| OceanRegion &lt;chr&gt; | BeaufortSea &lt;chr&gt; | GulfofMexico &lt;chr&gt; |\n",
       "|---|---|---|\n",
       "| 1CMET2-PWY     | 2389.9064 | 46583.7836 |\n",
       "| ARGSYN-PWY     | 2606.6932 | 43164.6076 |\n",
       "| ARGSYNBSUB-PWY | 2849.8948 | 45969.3918 |\n",
       "| P461-PWY       | 146.219   | 11163.7997 |\n",
       "| P562-PWY       | 533.4529  | 5505.587   |\n",
       "| P621-PWY       | 0         | 7228.8754  |\n",
       "\n"
      ],
      "text/plain": [
       "  OceanRegion    BeaufortSea GulfofMexico\n",
       "1 1CMET2-PWY     2389.9064   46583.7836  \n",
       "2 ARGSYN-PWY     2606.6932   43164.6076  \n",
       "3 ARGSYNBSUB-PWY 2849.8948   45969.3918  \n",
       "4 P461-PWY       146.219     11163.7997  \n",
       "5 P562-PWY       533.4529    5505.587    \n",
       "6 P621-PWY       0           7228.8754   "
      ]
     },
     "metadata": {},
     "output_type": "display_data"
    }
   ],
   "source": [
    "merged_obj_oceanregion_transpose <- merged_obj_oceanregion %>%\n",
    "  rownames_to_column %>% \n",
    "  gather(var, value, -rowname) %>% \n",
    "  spread(rowname, value) \n",
    "merged_obj_oceanregion_transpose <- merged_obj_oceanregion_transpose[order(match(merged_obj_oceanregion_transpose$var,names(merged_obj_oceanregion))),]\n",
    "colnames(merged_obj_oceanregion_transpose) <- merged_obj_oceanregion_transpose[1,] \n",
    "merged_obj_oceanregion_transpose <- merged_obj_oceanregion_transpose[-1, ]\n",
    "head(merged_obj_oceanregion_transpose)"
   ]
  },
  {
   "cell_type": "markdown",
   "metadata": {},
   "source": [
    "comment here"
   ]
  },
  {
   "cell_type": "code",
   "execution_count": 49,
   "metadata": {},
   "outputs": [
    {
     "data": {
      "text/html": [
       "<dl class=dl-horizontal>\n",
       "\t<dt>OceanRegion</dt>\n",
       "\t\t<dd>'character'</dd>\n",
       "\t<dt>BeaufortSea</dt>\n",
       "\t\t<dd>'character'</dd>\n",
       "\t<dt>GulfofMexico</dt>\n",
       "\t\t<dd>'character'</dd>\n",
       "</dl>\n"
      ],
      "text/latex": [
       "\\begin{description*}\n",
       "\\item[OceanRegion] 'character'\n",
       "\\item[BeaufortSea] 'character'\n",
       "\\item[GulfofMexico] 'character'\n",
       "\\end{description*}\n"
      ],
      "text/markdown": [
       "OceanRegion\n",
       ":   'character'BeaufortSea\n",
       ":   'character'GulfofMexico\n",
       ":   'character'\n",
       "\n"
      ],
      "text/plain": [
       " OceanRegion  BeaufortSea GulfofMexico \n",
       " \"character\"  \"character\"  \"character\" "
      ]
     },
     "metadata": {},
     "output_type": "display_data"
    },
    {
     "name": "stdout",
     "output_type": "stream",
     "text": [
      "Classes ‘tbl_df’, ‘tbl’ and 'data.frame':\t22 obs. of  3 variables:\n",
      " $ OceanRegion : chr  \"1CMET2-PWY\" \"ARGSYN-PWY\" \"ARGSYNBSUB-PWY\" \"P461-PWY\" ...\n",
      " $ BeaufortSea : num  2390 2607 2850 146 533 ...\n",
      " $ GulfofMexico: num  46584 43165 45969 11164 5506 ...\n"
     ]
    }
   ],
   "source": [
    "sapply(merged_obj_oceanregion_transpose, mode)\n",
    "merged_obj_oceanregion_transpose[2:3] = data.matrix(merged_obj_oceanregion_transpose[2:3])\n",
    "str(merged_obj_oceanregion_transpose)"
   ]
  },
  {
   "cell_type": "markdown",
   "metadata": {},
   "source": [
    "comment here"
   ]
  },
  {
   "cell_type": "code",
   "execution_count": 50,
   "metadata": {},
   "outputs": [
    {
     "data": {
      "text/html": [
       "<table>\n",
       "<caption>A tibble: 6 × 5</caption>\n",
       "<thead>\n",
       "\t<tr><th scope=col>OceanRegion</th><th scope=col>BeaufortSea</th><th scope=col>GulfofMexico</th><th scope=col>BeaufortSea_pct</th><th scope=col>GulfofMexico_pct</th></tr>\n",
       "\t<tr><th scope=col>&lt;chr&gt;</th><th scope=col>&lt;dbl&gt;</th><th scope=col>&lt;dbl&gt;</th><th scope=col>&lt;dbl&gt;</th><th scope=col>&lt;dbl&gt;</th></tr>\n",
       "</thead>\n",
       "<tbody>\n",
       "\t<tr><td>1CMET2-PWY    </td><td>2389.9064</td><td>46583.784</td><td>0.069070516</td><td>0.066542481</td></tr>\n",
       "\t<tr><td>ARGSYN-PWY    </td><td>2606.6932</td><td>43164.608</td><td>0.075335856</td><td>0.061658368</td></tr>\n",
       "\t<tr><td>ARGSYNBSUB-PWY</td><td>2849.8948</td><td>45969.392</td><td>0.082364608</td><td>0.065664854</td></tr>\n",
       "\t<tr><td>P461-PWY      </td><td> 146.2190</td><td>11163.800</td><td>0.004225865</td><td>0.015946900</td></tr>\n",
       "\t<tr><td>P562-PWY      </td><td> 533.4529</td><td> 5505.587</td><td>0.015417285</td><td>0.007864441</td></tr>\n",
       "\t<tr><td>P621-PWY      </td><td>   0.0000</td><td> 7228.875</td><td>0.000000000</td><td>0.010326068</td></tr>\n",
       "</tbody>\n",
       "</table>\n"
      ],
      "text/latex": [
       "A tibble: 6 × 5\n",
       "\\begin{tabular}{r|lllll}\n",
       " OceanRegion & BeaufortSea & GulfofMexico & BeaufortSea\\_pct & GulfofMexico\\_pct\\\\\n",
       " <chr> & <dbl> & <dbl> & <dbl> & <dbl>\\\\\n",
       "\\hline\n",
       "\t 1CMET2-PWY     & 2389.9064 & 46583.784 & 0.069070516 & 0.066542481\\\\\n",
       "\t ARGSYN-PWY     & 2606.6932 & 43164.608 & 0.075335856 & 0.061658368\\\\\n",
       "\t ARGSYNBSUB-PWY & 2849.8948 & 45969.392 & 0.082364608 & 0.065664854\\\\\n",
       "\t P461-PWY       &  146.2190 & 11163.800 & 0.004225865 & 0.015946900\\\\\n",
       "\t P562-PWY       &  533.4529 &  5505.587 & 0.015417285 & 0.007864441\\\\\n",
       "\t P621-PWY       &    0.0000 &  7228.875 & 0.000000000 & 0.010326068\\\\\n",
       "\\end{tabular}\n"
      ],
      "text/markdown": [
       "\n",
       "A tibble: 6 × 5\n",
       "\n",
       "| OceanRegion &lt;chr&gt; | BeaufortSea &lt;dbl&gt; | GulfofMexico &lt;dbl&gt; | BeaufortSea_pct &lt;dbl&gt; | GulfofMexico_pct &lt;dbl&gt; |\n",
       "|---|---|---|---|---|\n",
       "| 1CMET2-PWY     | 2389.9064 | 46583.784 | 0.069070516 | 0.066542481 |\n",
       "| ARGSYN-PWY     | 2606.6932 | 43164.608 | 0.075335856 | 0.061658368 |\n",
       "| ARGSYNBSUB-PWY | 2849.8948 | 45969.392 | 0.082364608 | 0.065664854 |\n",
       "| P461-PWY       |  146.2190 | 11163.800 | 0.004225865 | 0.015946900 |\n",
       "| P562-PWY       |  533.4529 |  5505.587 | 0.015417285 | 0.007864441 |\n",
       "| P621-PWY       |    0.0000 |  7228.875 | 0.000000000 | 0.010326068 |\n",
       "\n"
      ],
      "text/plain": [
       "  OceanRegion    BeaufortSea GulfofMexico BeaufortSea_pct GulfofMexico_pct\n",
       "1 1CMET2-PWY     2389.9064   46583.784    0.069070516     0.066542481     \n",
       "2 ARGSYN-PWY     2606.6932   43164.608    0.075335856     0.061658368     \n",
       "3 ARGSYNBSUB-PWY 2849.8948   45969.392    0.082364608     0.065664854     \n",
       "4 P461-PWY        146.2190   11163.800    0.004225865     0.015946900     \n",
       "5 P562-PWY        533.4529    5505.587    0.015417285     0.007864441     \n",
       "6 P621-PWY          0.0000    7228.875    0.000000000     0.010326068     "
      ]
     },
     "metadata": {},
     "output_type": "display_data"
    }
   ],
   "source": [
    "for(col in names(merged_obj_oceanregion_transpose)[-1]) {\n",
    "  merged_obj_oceanregion_transpose[paste0(col, \"_pct\")] = merged_obj_oceanregion_transpose[col] / sum(merged_obj_oceanregion_transpose[col])\n",
    "}\n",
    "head(merged_obj_oceanregion_transpose)"
   ]
  },
  {
   "cell_type": "code",
   "execution_count": null,
   "metadata": {},
   "outputs": [],
   "source": []
  },
  {
   "cell_type": "code",
   "execution_count": 51,
   "metadata": {},
   "outputs": [
    {
     "data": {
      "text/html": [
       "<table>\n",
       "<caption>A tibble: 6 × 3</caption>\n",
       "<thead>\n",
       "\t<tr><th scope=col>OceanRegion</th><th scope=col>BeaufortSea_pct</th><th scope=col>GulfofMexico_pct</th></tr>\n",
       "\t<tr><th scope=col>&lt;chr&gt;</th><th scope=col>&lt;dbl&gt;</th><th scope=col>&lt;dbl&gt;</th></tr>\n",
       "</thead>\n",
       "<tbody>\n",
       "\t<tr><td>1CMET2-PWY    </td><td>0.069070516</td><td>0.066542481</td></tr>\n",
       "\t<tr><td>ARGSYN-PWY    </td><td>0.075335856</td><td>0.061658368</td></tr>\n",
       "\t<tr><td>ARGSYNBSUB-PWY</td><td>0.082364608</td><td>0.065664854</td></tr>\n",
       "\t<tr><td>P461-PWY      </td><td>0.004225865</td><td>0.015946900</td></tr>\n",
       "\t<tr><td>P562-PWY      </td><td>0.015417285</td><td>0.007864441</td></tr>\n",
       "\t<tr><td>P621-PWY      </td><td>0.000000000</td><td>0.010326068</td></tr>\n",
       "</tbody>\n",
       "</table>\n"
      ],
      "text/latex": [
       "A tibble: 6 × 3\n",
       "\\begin{tabular}{r|lll}\n",
       " OceanRegion & BeaufortSea\\_pct & GulfofMexico\\_pct\\\\\n",
       " <chr> & <dbl> & <dbl>\\\\\n",
       "\\hline\n",
       "\t 1CMET2-PWY     & 0.069070516 & 0.066542481\\\\\n",
       "\t ARGSYN-PWY     & 0.075335856 & 0.061658368\\\\\n",
       "\t ARGSYNBSUB-PWY & 0.082364608 & 0.065664854\\\\\n",
       "\t P461-PWY       & 0.004225865 & 0.015946900\\\\\n",
       "\t P562-PWY       & 0.015417285 & 0.007864441\\\\\n",
       "\t P621-PWY       & 0.000000000 & 0.010326068\\\\\n",
       "\\end{tabular}\n"
      ],
      "text/markdown": [
       "\n",
       "A tibble: 6 × 3\n",
       "\n",
       "| OceanRegion &lt;chr&gt; | BeaufortSea_pct &lt;dbl&gt; | GulfofMexico_pct &lt;dbl&gt; |\n",
       "|---|---|---|\n",
       "| 1CMET2-PWY     | 0.069070516 | 0.066542481 |\n",
       "| ARGSYN-PWY     | 0.075335856 | 0.061658368 |\n",
       "| ARGSYNBSUB-PWY | 0.082364608 | 0.065664854 |\n",
       "| P461-PWY       | 0.004225865 | 0.015946900 |\n",
       "| P562-PWY       | 0.015417285 | 0.007864441 |\n",
       "| P621-PWY       | 0.000000000 | 0.010326068 |\n",
       "\n"
      ],
      "text/plain": [
       "  OceanRegion    BeaufortSea_pct GulfofMexico_pct\n",
       "1 1CMET2-PWY     0.069070516     0.066542481     \n",
       "2 ARGSYN-PWY     0.075335856     0.061658368     \n",
       "3 ARGSYNBSUB-PWY 0.082364608     0.065664854     \n",
       "4 P461-PWY       0.004225865     0.015946900     \n",
       "5 P562-PWY       0.015417285     0.007864441     \n",
       "6 P621-PWY       0.000000000     0.010326068     "
      ]
     },
     "metadata": {},
     "output_type": "display_data"
    }
   ],
   "source": [
    "percent_cols <- grep(\"_pct\", colnames(merged_obj_oceanregion_transpose))\n",
    "col_keep <- c(percent_cols)\n",
    "merged_obj_oceanregion_transpose_perc <- merged_obj_oceanregion_transpose[, c(1, col_keep)]\n",
    "head(merged_obj_oceanregion_transpose_perc)"
   ]
  },
  {
   "cell_type": "code",
   "execution_count": null,
   "metadata": {},
   "outputs": [],
   "source": []
  },
  {
   "cell_type": "code",
   "execution_count": 52,
   "metadata": {},
   "outputs": [
    {
     "data": {
      "text/html": [
       "<table>\n",
       "<caption>A tibble: 6 × 4</caption>\n",
       "<thead>\n",
       "\t<tr><th scope=col>OceanRegion</th><th scope=col>BeaufortSea_pct</th><th scope=col>GulfofMexico_pct</th><th scope=col>total_pthwy_perc</th></tr>\n",
       "\t<tr><th scope=col>&lt;chr&gt;</th><th scope=col>&lt;dbl&gt;</th><th scope=col>&lt;dbl&gt;</th><th scope=col>&lt;dbl&gt;</th></tr>\n",
       "</thead>\n",
       "<tbody>\n",
       "\t<tr><td>1CMET2-PWY    </td><td>0.069070516</td><td>0.066542481</td><td>0.13561300</td></tr>\n",
       "\t<tr><td>ARGSYN-PWY    </td><td>0.075335856</td><td>0.061658368</td><td>0.13699422</td></tr>\n",
       "\t<tr><td>ARGSYNBSUB-PWY</td><td>0.082364608</td><td>0.065664854</td><td>0.14802946</td></tr>\n",
       "\t<tr><td>P461-PWY      </td><td>0.004225865</td><td>0.015946900</td><td>0.02017276</td></tr>\n",
       "\t<tr><td>P562-PWY      </td><td>0.015417285</td><td>0.007864441</td><td>0.02328173</td></tr>\n",
       "\t<tr><td>P621-PWY      </td><td>0.000000000</td><td>0.010326068</td><td>0.01032607</td></tr>\n",
       "</tbody>\n",
       "</table>\n"
      ],
      "text/latex": [
       "A tibble: 6 × 4\n",
       "\\begin{tabular}{r|llll}\n",
       " OceanRegion & BeaufortSea\\_pct & GulfofMexico\\_pct & total\\_pthwy\\_perc\\\\\n",
       " <chr> & <dbl> & <dbl> & <dbl>\\\\\n",
       "\\hline\n",
       "\t 1CMET2-PWY     & 0.069070516 & 0.066542481 & 0.13561300\\\\\n",
       "\t ARGSYN-PWY     & 0.075335856 & 0.061658368 & 0.13699422\\\\\n",
       "\t ARGSYNBSUB-PWY & 0.082364608 & 0.065664854 & 0.14802946\\\\\n",
       "\t P461-PWY       & 0.004225865 & 0.015946900 & 0.02017276\\\\\n",
       "\t P562-PWY       & 0.015417285 & 0.007864441 & 0.02328173\\\\\n",
       "\t P621-PWY       & 0.000000000 & 0.010326068 & 0.01032607\\\\\n",
       "\\end{tabular}\n"
      ],
      "text/markdown": [
       "\n",
       "A tibble: 6 × 4\n",
       "\n",
       "| OceanRegion &lt;chr&gt; | BeaufortSea_pct &lt;dbl&gt; | GulfofMexico_pct &lt;dbl&gt; | total_pthwy_perc &lt;dbl&gt; |\n",
       "|---|---|---|---|\n",
       "| 1CMET2-PWY     | 0.069070516 | 0.066542481 | 0.13561300 |\n",
       "| ARGSYN-PWY     | 0.075335856 | 0.061658368 | 0.13699422 |\n",
       "| ARGSYNBSUB-PWY | 0.082364608 | 0.065664854 | 0.14802946 |\n",
       "| P461-PWY       | 0.004225865 | 0.015946900 | 0.02017276 |\n",
       "| P562-PWY       | 0.015417285 | 0.007864441 | 0.02328173 |\n",
       "| P621-PWY       | 0.000000000 | 0.010326068 | 0.01032607 |\n",
       "\n"
      ],
      "text/plain": [
       "  OceanRegion    BeaufortSea_pct GulfofMexico_pct total_pthwy_perc\n",
       "1 1CMET2-PWY     0.069070516     0.066542481      0.13561300      \n",
       "2 ARGSYN-PWY     0.075335856     0.061658368      0.13699422      \n",
       "3 ARGSYNBSUB-PWY 0.082364608     0.065664854      0.14802946      \n",
       "4 P461-PWY       0.004225865     0.015946900      0.02017276      \n",
       "5 P562-PWY       0.015417285     0.007864441      0.02328173      \n",
       "6 P621-PWY       0.000000000     0.010326068      0.01032607      "
      ]
     },
     "metadata": {},
     "output_type": "display_data"
    },
    {
     "data": {
      "text/html": [
       "<table>\n",
       "<caption>A tibble: 6 × 4</caption>\n",
       "<thead>\n",
       "\t<tr><th scope=col>OceanRegion</th><th scope=col>BeaufortSea_pct</th><th scope=col>GulfofMexico_pct</th><th scope=col>total_pthwy_perc</th></tr>\n",
       "\t<tr><th scope=col>&lt;chr&gt;</th><th scope=col>&lt;dbl&gt;</th><th scope=col>&lt;dbl&gt;</th><th scope=col>&lt;dbl&gt;</th></tr>\n",
       "</thead>\n",
       "<tbody>\n",
       "\t<tr><td>PHOSLIPSYN-PWY      </td><td>0.08058922</td><td>0.08851198</td><td>0.1691012</td></tr>\n",
       "\t<tr><td>ARO-PWY             </td><td>0.08454982</td><td>0.07211492</td><td>0.1566647</td></tr>\n",
       "\t<tr><td>ARGSYNBSUB-PWY      </td><td>0.08236461</td><td>0.06566485</td><td>0.1480295</td></tr>\n",
       "\t<tr><td>POLYISOPRENSYN-PWY  </td><td>0.07172729</td><td>0.07562754</td><td>0.1473548</td></tr>\n",
       "\t<tr><td>PEPTIDOGLYCANSYN-PWY</td><td>0.06649236</td><td>0.07862978</td><td>0.1451221</td></tr>\n",
       "\t<tr><td>ARGSYN-PWY          </td><td>0.07533586</td><td>0.06165837</td><td>0.1369942</td></tr>\n",
       "</tbody>\n",
       "</table>\n"
      ],
      "text/latex": [
       "A tibble: 6 × 4\n",
       "\\begin{tabular}{r|llll}\n",
       " OceanRegion & BeaufortSea\\_pct & GulfofMexico\\_pct & total\\_pthwy\\_perc\\\\\n",
       " <chr> & <dbl> & <dbl> & <dbl>\\\\\n",
       "\\hline\n",
       "\t PHOSLIPSYN-PWY       & 0.08058922 & 0.08851198 & 0.1691012\\\\\n",
       "\t ARO-PWY              & 0.08454982 & 0.07211492 & 0.1566647\\\\\n",
       "\t ARGSYNBSUB-PWY       & 0.08236461 & 0.06566485 & 0.1480295\\\\\n",
       "\t POLYISOPRENSYN-PWY   & 0.07172729 & 0.07562754 & 0.1473548\\\\\n",
       "\t PEPTIDOGLYCANSYN-PWY & 0.06649236 & 0.07862978 & 0.1451221\\\\\n",
       "\t ARGSYN-PWY           & 0.07533586 & 0.06165837 & 0.1369942\\\\\n",
       "\\end{tabular}\n"
      ],
      "text/markdown": [
       "\n",
       "A tibble: 6 × 4\n",
       "\n",
       "| OceanRegion &lt;chr&gt; | BeaufortSea_pct &lt;dbl&gt; | GulfofMexico_pct &lt;dbl&gt; | total_pthwy_perc &lt;dbl&gt; |\n",
       "|---|---|---|---|\n",
       "| PHOSLIPSYN-PWY       | 0.08058922 | 0.08851198 | 0.1691012 |\n",
       "| ARO-PWY              | 0.08454982 | 0.07211492 | 0.1566647 |\n",
       "| ARGSYNBSUB-PWY       | 0.08236461 | 0.06566485 | 0.1480295 |\n",
       "| POLYISOPRENSYN-PWY   | 0.07172729 | 0.07562754 | 0.1473548 |\n",
       "| PEPTIDOGLYCANSYN-PWY | 0.06649236 | 0.07862978 | 0.1451221 |\n",
       "| ARGSYN-PWY           | 0.07533586 | 0.06165837 | 0.1369942 |\n",
       "\n"
      ],
      "text/plain": [
       "  OceanRegion          BeaufortSea_pct GulfofMexico_pct total_pthwy_perc\n",
       "1 PHOSLIPSYN-PWY       0.08058922      0.08851198       0.1691012       \n",
       "2 ARO-PWY              0.08454982      0.07211492       0.1566647       \n",
       "3 ARGSYNBSUB-PWY       0.08236461      0.06566485       0.1480295       \n",
       "4 POLYISOPRENSYN-PWY   0.07172729      0.07562754       0.1473548       \n",
       "5 PEPTIDOGLYCANSYN-PWY 0.06649236      0.07862978       0.1451221       \n",
       "6 ARGSYN-PWY           0.07533586      0.06165837       0.1369942       "
      ]
     },
     "metadata": {},
     "output_type": "display_data"
    }
   ],
   "source": [
    "merged_obj_oceanregion_transpose_perc$total_pthwy_perc <- rowSums(merged_obj_oceanregion_transpose_perc[,-1])\n",
    "head(merged_obj_oceanregion_transpose_perc)\n",
    "merged_obj_oceanregion_transpose_perc <- merged_obj_oceanregion_transpose_perc %>% \n",
    "  arrange(desc(merged_obj_oceanregion_transpose_perc$total_pthwy_perc))\n",
    "head(merged_obj_oceanregion_transpose_perc)"
   ]
  },
  {
   "cell_type": "code",
   "execution_count": null,
   "metadata": {},
   "outputs": [],
   "source": []
  },
  {
   "cell_type": "code",
   "execution_count": 53,
   "metadata": {},
   "outputs": [
    {
     "name": "stderr",
     "output_type": "stream",
     "text": [
      "Selecting by total_pthwy_perc\n"
     ]
    },
    {
     "data": {
      "text/html": [
       "<table>\n",
       "<caption>A tibble: 6 × 3</caption>\n",
       "<thead>\n",
       "\t<tr><th scope=col>OceanRegion</th><th scope=col>BeaufortSea</th><th scope=col>GulfofMexico</th></tr>\n",
       "\t<tr><th scope=col>&lt;chr&gt;</th><th scope=col>&lt;dbl&gt;</th><th scope=col>&lt;dbl&gt;</th></tr>\n",
       "</thead>\n",
       "<tbody>\n",
       "\t<tr><td>PHOSLIPSYN-PWY      </td><td>0.08058922</td><td>0.08851198</td></tr>\n",
       "\t<tr><td>ARO-PWY             </td><td>0.08454982</td><td>0.07211492</td></tr>\n",
       "\t<tr><td>ARGSYNBSUB-PWY      </td><td>0.08236461</td><td>0.06566485</td></tr>\n",
       "\t<tr><td>POLYISOPRENSYN-PWY  </td><td>0.07172729</td><td>0.07562754</td></tr>\n",
       "\t<tr><td>PEPTIDOGLYCANSYN-PWY</td><td>0.06649236</td><td>0.07862978</td></tr>\n",
       "\t<tr><td>ARGSYN-PWY          </td><td>0.07533586</td><td>0.06165837</td></tr>\n",
       "</tbody>\n",
       "</table>\n"
      ],
      "text/latex": [
       "A tibble: 6 × 3\n",
       "\\begin{tabular}{r|lll}\n",
       " OceanRegion & BeaufortSea & GulfofMexico\\\\\n",
       " <chr> & <dbl> & <dbl>\\\\\n",
       "\\hline\n",
       "\t PHOSLIPSYN-PWY       & 0.08058922 & 0.08851198\\\\\n",
       "\t ARO-PWY              & 0.08454982 & 0.07211492\\\\\n",
       "\t ARGSYNBSUB-PWY       & 0.08236461 & 0.06566485\\\\\n",
       "\t POLYISOPRENSYN-PWY   & 0.07172729 & 0.07562754\\\\\n",
       "\t PEPTIDOGLYCANSYN-PWY & 0.06649236 & 0.07862978\\\\\n",
       "\t ARGSYN-PWY           & 0.07533586 & 0.06165837\\\\\n",
       "\\end{tabular}\n"
      ],
      "text/markdown": [
       "\n",
       "A tibble: 6 × 3\n",
       "\n",
       "| OceanRegion &lt;chr&gt; | BeaufortSea &lt;dbl&gt; | GulfofMexico &lt;dbl&gt; |\n",
       "|---|---|---|\n",
       "| PHOSLIPSYN-PWY       | 0.08058922 | 0.08851198 |\n",
       "| ARO-PWY              | 0.08454982 | 0.07211492 |\n",
       "| ARGSYNBSUB-PWY       | 0.08236461 | 0.06566485 |\n",
       "| POLYISOPRENSYN-PWY   | 0.07172729 | 0.07562754 |\n",
       "| PEPTIDOGLYCANSYN-PWY | 0.06649236 | 0.07862978 |\n",
       "| ARGSYN-PWY           | 0.07533586 | 0.06165837 |\n",
       "\n"
      ],
      "text/plain": [
       "  OceanRegion          BeaufortSea GulfofMexico\n",
       "1 PHOSLIPSYN-PWY       0.08058922  0.08851198  \n",
       "2 ARO-PWY              0.08454982  0.07211492  \n",
       "3 ARGSYNBSUB-PWY       0.08236461  0.06566485  \n",
       "4 POLYISOPRENSYN-PWY   0.07172729  0.07562754  \n",
       "5 PEPTIDOGLYCANSYN-PWY 0.06649236  0.07862978  \n",
       "6 ARGSYN-PWY           0.07533586  0.06165837  "
      ]
     },
     "metadata": {},
     "output_type": "display_data"
    }
   ],
   "source": [
    "num_row <- nrow(merged_obj_oceanregion_transpose_perc)\n",
    "top_10_perc <- ceiling((1)*num_row)\n",
    "merged_obj_oceanregion_transpose_perc_top_10 <- top_n(merged_obj_oceanregion_transpose_perc, top_10_perc)\n",
    "merged_obj_oceanregion_transpose_perc_top_10$total_pthwy_perc <- NULL\n",
    "names(merged_obj_oceanregion_transpose_perc_top_10) <- gsub(x = names(merged_obj_oceanregion_transpose_perc_top_10),\n",
    "                                                            pattern = \"_pct\", replacement = \"\")\n",
    "head(merged_obj_oceanregion_transpose_perc_top_10)"
   ]
  },
  {
   "cell_type": "code",
   "execution_count": null,
   "metadata": {},
   "outputs": [],
   "source": []
  },
  {
   "cell_type": "code",
   "execution_count": 54,
   "metadata": {},
   "outputs": [
    {
     "name": "stderr",
     "output_type": "stream",
     "text": [
      "Using OceanRegion as id variables\n"
     ]
    }
   ],
   "source": [
    "merged_obj_oceanregion_transpose_perc_top_10 <- merged_obj_oceanregion_transpose_perc_top_10 %>%\n",
    "  rename( \"Beaufort Sea\" = \"BeaufortSea\",\n",
    "    \"Gulf of Mexico\" = \"GulfofMexico\")\n",
    "merged_obj_oceanregion_transpose_perc_top_10.molten <- melt(merged_obj_oceanregion_transpose_perc_top_10, value.name=\"Count\", variable.name=\"Variable\", na.rm=TRUE)"
   ]
  },
  {
   "cell_type": "code",
   "execution_count": null,
   "metadata": {},
   "outputs": [],
   "source": [
    "Make the plot!"
   ]
  },
  {
   "cell_type": "code",
   "execution_count": 55,
   "metadata": {},
   "outputs": [
    {
     "data": {
      "image/png": "[encoded data removed]",
      "text/plain": [
       "plot without title"
      ]
     },
     "metadata": {},
     "output_type": "display_data"
    }
   ],
   "source": [
    "plot <- ggplot(merged_obj_oceanregion_transpose_perc_top_10.molten) +\n",
    "  geom_col(aes(x = OceanRegion, y = Count, fill = Variable), position = 'dodge') +\n",
    "  coord_flip() +\n",
    "  labs(x = \"Pthwy ID\", y = \"Rel. abundance\") +\n",
    "  #scale_fill_manual(values = c(col_vector))\n",
    "  scale_fill_manual(values = c(\"darkgreen\",\n",
    "                               \"darkgrey\"))\n",
    "plot"
   ]
  },
  {
   "cell_type": "code",
   "execution_count": null,
   "metadata": {},
   "outputs": [],
   "source": []
  },
  {
   "cell_type": "code",
   "execution_count": null,
   "metadata": {},
   "outputs": [],
   "source": []
  },
  {
   "cell_type": "code",
   "execution_count": null,
   "metadata": {},
   "outputs": [],
   "source": []
  }
 ],
 "metadata": {
  "kernelspec": {
   "display_name": "R",
   "language": "R",
   "name": "ir"
  }
 },
 "nbformat": 4,
 "nbformat_minor": 2
}
